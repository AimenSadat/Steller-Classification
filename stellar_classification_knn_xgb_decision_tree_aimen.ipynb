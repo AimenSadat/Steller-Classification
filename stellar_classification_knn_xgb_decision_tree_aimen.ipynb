{
  "cells": [
    {
      "cell_type": "markdown",
      "id": "909a8b5a",
      "metadata": {
        "papermill": {
          "duration": 0.011355,
          "end_time": "2023-11-24T18:59:13.363415",
          "exception": false,
          "start_time": "2023-11-24T18:59:13.352060",
          "status": "completed"
        },
        "tags": [],
        "id": "909a8b5a"
      },
      "source": [
        "# Stellar Classification\n",
        "\n",
        "This notebook implements a complete Machine Learning workflow with the 'Stellar Classification - SDSS17' dataset.\n",
        "\n",
        "This dataset consists of 100,000 observations of space taken by the SDSS (Sloan Digital Sky Survey). Every observation is described by 17 feature columns and 1 class column which identifies it to be either a star, galaxy or quasar.\n",
        "\n",
        "Models used: KNN, XGBoost and Decision Tree.\n",
        "\n"
      ]
    },
    {
      "cell_type": "markdown",
      "id": "b1f059a7",
      "metadata": {
        "papermill": {
          "duration": 0.007852,
          "end_time": "2023-11-24T18:59:13.379845",
          "exception": false,
          "start_time": "2023-11-24T18:59:13.371993",
          "status": "completed"
        },
        "tags": [],
        "id": "b1f059a7"
      },
      "source": [
        "## Imports and dataset"
      ]
    },
    {
      "cell_type": "code",
      "execution_count": null,
      "id": "1a30b07c",
      "metadata": {
        "_cell_guid": "b1076dfc-b9ad-4769-8c92-a6c4dae69d19",
        "_uuid": "8f2839f25d086af736a60e9eeb907d3b93b6e0e5",
        "execution": {
          "iopub.execute_input": "2023-11-24T18:59:13.398698Z",
          "iopub.status.busy": "2023-11-24T18:59:13.397841Z",
          "iopub.status.idle": "2023-11-24T18:59:16.586687Z",
          "shell.execute_reply": "2023-11-24T18:59:16.585352Z"
        },
        "papermill": {
          "duration": 3.202004,
          "end_time": "2023-11-24T18:59:16.589927",
          "exception": false,
          "start_time": "2023-11-24T18:59:13.387923",
          "status": "completed"
        },
        "tags": [],
        "id": "1a30b07c"
      },
      "outputs": [],
      "source": [
        "import numpy as np\n",
        "import pandas as pd\n",
        "import seaborn as sns\n",
        "from sklearn.model_selection import train_test_split\n",
        "from sklearn.metrics import accuracy_score\n",
        "from sklearn.neighbors import KNeighborsClassifier\n",
        "from sklearn.tree import DecisionTreeClassifier\n",
        "from xgboost import XGBClassifier\n",
        "from sklearn.metrics import f1_score, confusion_matrix, accuracy_score\n",
        "import matplotlib.pyplot as plt\n",
        "\n",
        "df = pd.read_csv('../input/stellar-classification-dataset-sdss17/star_classification.csv')"
      ]
    },
    {
      "cell_type": "markdown",
      "id": "7d796386",
      "metadata": {
        "papermill": {
          "duration": 0.007948,
          "end_time": "2023-11-24T18:59:16.606121",
          "exception": false,
          "start_time": "2023-11-24T18:59:16.598173",
          "status": "completed"
        },
        "tags": [],
        "id": "7d796386"
      },
      "source": [
        "## Exploratory Data Analysis"
      ]
    },
    {
      "cell_type": "code",
      "execution_count": null,
      "id": "9cd59bbe",
      "metadata": {
        "execution": {
          "iopub.execute_input": "2023-11-24T18:59:16.624346Z",
          "iopub.status.busy": "2023-11-24T18:59:16.623818Z",
          "iopub.status.idle": "2023-11-24T18:59:16.632829Z",
          "shell.execute_reply": "2023-11-24T18:59:16.631591Z"
        },
        "papermill": {
          "duration": 0.021045,
          "end_time": "2023-11-24T18:59:16.635283",
          "exception": false,
          "start_time": "2023-11-24T18:59:16.614238",
          "status": "completed"
        },
        "tags": [],
        "id": "9cd59bbe",
        "outputId": "db766e20-1e7d-4f39-93ed-063827a3de8b"
      },
      "outputs": [
        {
          "data": {
            "text/plain": [
              "(100000, 18)"
            ]
          },
          "execution_count": 2,
          "metadata": {},
          "output_type": "execute_result"
        }
      ],
      "source": [
        "# Dataset shape\n",
        "df.shape"
      ]
    },
    {
      "cell_type": "code",
      "execution_count": null,
      "id": "7acdc4ad",
      "metadata": {
        "execution": {
          "iopub.execute_input": "2023-11-24T18:59:16.654895Z",
          "iopub.status.busy": "2023-11-24T18:59:16.654390Z",
          "iopub.status.idle": "2023-11-24T18:59:16.668884Z",
          "shell.execute_reply": "2023-11-24T18:59:16.667897Z"
        },
        "papermill": {
          "duration": 0.027217,
          "end_time": "2023-11-24T18:59:16.671058",
          "exception": false,
          "start_time": "2023-11-24T18:59:16.643841",
          "status": "completed"
        },
        "tags": [],
        "id": "7acdc4ad",
        "outputId": "d3891c68-29c8-4dc9-fbf4-b2bdf0507666"
      },
      "outputs": [
        {
          "data": {
            "text/plain": [
              "obj_ID         float64\n",
              "alpha          float64\n",
              "delta          float64\n",
              "u              float64\n",
              "g              float64\n",
              "r              float64\n",
              "i              float64\n",
              "z              float64\n",
              "run_ID           int64\n",
              "rerun_ID         int64\n",
              "cam_col          int64\n",
              "field_ID         int64\n",
              "spec_obj_ID    float64\n",
              "class           object\n",
              "redshift       float64\n",
              "plate            int64\n",
              "MJD              int64\n",
              "fiber_ID         int64\n",
              "dtype: object"
            ]
          },
          "execution_count": 3,
          "metadata": {},
          "output_type": "execute_result"
        }
      ],
      "source": [
        "# Data types\n",
        "df.dtypes"
      ]
    },
    {
      "cell_type": "code",
      "execution_count": null,
      "id": "7e546779",
      "metadata": {
        "execution": {
          "iopub.execute_input": "2023-11-24T18:59:16.690292Z",
          "iopub.status.busy": "2023-11-24T18:59:16.689821Z",
          "iopub.status.idle": "2023-11-24T18:59:16.721378Z",
          "shell.execute_reply": "2023-11-24T18:59:16.720176Z"
        },
        "papermill": {
          "duration": 0.044242,
          "end_time": "2023-11-24T18:59:16.723880",
          "exception": false,
          "start_time": "2023-11-24T18:59:16.679638",
          "status": "completed"
        },
        "tags": [],
        "id": "7e546779",
        "outputId": "3afb98fb-1716-462c-80fb-d5c47504b037"
      },
      "outputs": [
        {
          "data": {
            "text/html": [
              "<div>\n",
              "<style scoped>\n",
              "    .dataframe tbody tr th:only-of-type {\n",
              "        vertical-align: middle;\n",
              "    }\n",
              "\n",
              "    .dataframe tbody tr th {\n",
              "        vertical-align: top;\n",
              "    }\n",
              "\n",
              "    .dataframe thead th {\n",
              "        text-align: right;\n",
              "    }\n",
              "</style>\n",
              "<table border=\"1\" class=\"dataframe\">\n",
              "  <thead>\n",
              "    <tr style=\"text-align: right;\">\n",
              "      <th></th>\n",
              "      <th>obj_ID</th>\n",
              "      <th>alpha</th>\n",
              "      <th>delta</th>\n",
              "      <th>u</th>\n",
              "      <th>g</th>\n",
              "      <th>r</th>\n",
              "      <th>i</th>\n",
              "      <th>z</th>\n",
              "      <th>run_ID</th>\n",
              "      <th>rerun_ID</th>\n",
              "      <th>cam_col</th>\n",
              "      <th>field_ID</th>\n",
              "      <th>spec_obj_ID</th>\n",
              "      <th>class</th>\n",
              "      <th>redshift</th>\n",
              "      <th>plate</th>\n",
              "      <th>MJD</th>\n",
              "      <th>fiber_ID</th>\n",
              "    </tr>\n",
              "  </thead>\n",
              "  <tbody>\n",
              "    <tr>\n",
              "      <th>0</th>\n",
              "      <td>1.237661e+18</td>\n",
              "      <td>135.689107</td>\n",
              "      <td>32.494632</td>\n",
              "      <td>23.87882</td>\n",
              "      <td>22.27530</td>\n",
              "      <td>20.39501</td>\n",
              "      <td>19.16573</td>\n",
              "      <td>18.79371</td>\n",
              "      <td>3606</td>\n",
              "      <td>301</td>\n",
              "      <td>2</td>\n",
              "      <td>79</td>\n",
              "      <td>6.543777e+18</td>\n",
              "      <td>GALAXY</td>\n",
              "      <td>0.634794</td>\n",
              "      <td>5812</td>\n",
              "      <td>56354</td>\n",
              "      <td>171</td>\n",
              "    </tr>\n",
              "    <tr>\n",
              "      <th>1</th>\n",
              "      <td>1.237665e+18</td>\n",
              "      <td>144.826101</td>\n",
              "      <td>31.274185</td>\n",
              "      <td>24.77759</td>\n",
              "      <td>22.83188</td>\n",
              "      <td>22.58444</td>\n",
              "      <td>21.16812</td>\n",
              "      <td>21.61427</td>\n",
              "      <td>4518</td>\n",
              "      <td>301</td>\n",
              "      <td>5</td>\n",
              "      <td>119</td>\n",
              "      <td>1.176014e+19</td>\n",
              "      <td>GALAXY</td>\n",
              "      <td>0.779136</td>\n",
              "      <td>10445</td>\n",
              "      <td>58158</td>\n",
              "      <td>427</td>\n",
              "    </tr>\n",
              "    <tr>\n",
              "      <th>2</th>\n",
              "      <td>1.237661e+18</td>\n",
              "      <td>142.188790</td>\n",
              "      <td>35.582444</td>\n",
              "      <td>25.26307</td>\n",
              "      <td>22.66389</td>\n",
              "      <td>20.60976</td>\n",
              "      <td>19.34857</td>\n",
              "      <td>18.94827</td>\n",
              "      <td>3606</td>\n",
              "      <td>301</td>\n",
              "      <td>2</td>\n",
              "      <td>120</td>\n",
              "      <td>5.152200e+18</td>\n",
              "      <td>GALAXY</td>\n",
              "      <td>0.644195</td>\n",
              "      <td>4576</td>\n",
              "      <td>55592</td>\n",
              "      <td>299</td>\n",
              "    </tr>\n",
              "    <tr>\n",
              "      <th>3</th>\n",
              "      <td>1.237663e+18</td>\n",
              "      <td>338.741038</td>\n",
              "      <td>-0.402828</td>\n",
              "      <td>22.13682</td>\n",
              "      <td>23.77656</td>\n",
              "      <td>21.61162</td>\n",
              "      <td>20.50454</td>\n",
              "      <td>19.25010</td>\n",
              "      <td>4192</td>\n",
              "      <td>301</td>\n",
              "      <td>3</td>\n",
              "      <td>214</td>\n",
              "      <td>1.030107e+19</td>\n",
              "      <td>GALAXY</td>\n",
              "      <td>0.932346</td>\n",
              "      <td>9149</td>\n",
              "      <td>58039</td>\n",
              "      <td>775</td>\n",
              "    </tr>\n",
              "    <tr>\n",
              "      <th>4</th>\n",
              "      <td>1.237680e+18</td>\n",
              "      <td>345.282593</td>\n",
              "      <td>21.183866</td>\n",
              "      <td>19.43718</td>\n",
              "      <td>17.58028</td>\n",
              "      <td>16.49747</td>\n",
              "      <td>15.97711</td>\n",
              "      <td>15.54461</td>\n",
              "      <td>8102</td>\n",
              "      <td>301</td>\n",
              "      <td>3</td>\n",
              "      <td>137</td>\n",
              "      <td>6.891865e+18</td>\n",
              "      <td>GALAXY</td>\n",
              "      <td>0.116123</td>\n",
              "      <td>6121</td>\n",
              "      <td>56187</td>\n",
              "      <td>842</td>\n",
              "    </tr>\n",
              "  </tbody>\n",
              "</table>\n",
              "</div>"
            ],
            "text/plain": [
              "         obj_ID       alpha      delta         u         g         r  \\\n",
              "0  1.237661e+18  135.689107  32.494632  23.87882  22.27530  20.39501   \n",
              "1  1.237665e+18  144.826101  31.274185  24.77759  22.83188  22.58444   \n",
              "2  1.237661e+18  142.188790  35.582444  25.26307  22.66389  20.60976   \n",
              "3  1.237663e+18  338.741038  -0.402828  22.13682  23.77656  21.61162   \n",
              "4  1.237680e+18  345.282593  21.183866  19.43718  17.58028  16.49747   \n",
              "\n",
              "          i         z  run_ID  rerun_ID  cam_col  field_ID   spec_obj_ID  \\\n",
              "0  19.16573  18.79371    3606       301        2        79  6.543777e+18   \n",
              "1  21.16812  21.61427    4518       301        5       119  1.176014e+19   \n",
              "2  19.34857  18.94827    3606       301        2       120  5.152200e+18   \n",
              "3  20.50454  19.25010    4192       301        3       214  1.030107e+19   \n",
              "4  15.97711  15.54461    8102       301        3       137  6.891865e+18   \n",
              "\n",
              "    class  redshift  plate    MJD  fiber_ID  \n",
              "0  GALAXY  0.634794   5812  56354       171  \n",
              "1  GALAXY  0.779136  10445  58158       427  \n",
              "2  GALAXY  0.644195   4576  55592       299  \n",
              "3  GALAXY  0.932346   9149  58039       775  \n",
              "4  GALAXY  0.116123   6121  56187       842  "
            ]
          },
          "execution_count": 4,
          "metadata": {},
          "output_type": "execute_result"
        }
      ],
      "source": [
        "# First 5 rows\n",
        "df.head()"
      ]
    },
    {
      "cell_type": "code",
      "execution_count": null,
      "id": "e98a02b8",
      "metadata": {
        "execution": {
          "iopub.execute_input": "2023-11-24T18:59:16.743757Z",
          "iopub.status.busy": "2023-11-24T18:59:16.743290Z",
          "iopub.status.idle": "2023-11-24T18:59:16.775669Z",
          "shell.execute_reply": "2023-11-24T18:59:16.774366Z"
        },
        "papermill": {
          "duration": 0.045614,
          "end_time": "2023-11-24T18:59:16.778359",
          "exception": false,
          "start_time": "2023-11-24T18:59:16.732745",
          "status": "completed"
        },
        "tags": [],
        "id": "e98a02b8",
        "outputId": "994fb707-62e9-4f3b-ab94-572b30bafd0a"
      },
      "outputs": [
        {
          "data": {
            "text/plain": [
              "class\n",
              "GALAXY    59445\n",
              "STAR      21594\n",
              "QSO       18961\n",
              "Name: count, dtype: int64"
            ]
          },
          "execution_count": 5,
          "metadata": {},
          "output_type": "execute_result"
        }
      ],
      "source": [
        "# Number of examples in each class\n",
        "df['class'].value_counts()"
      ]
    },
    {
      "cell_type": "code",
      "execution_count": null,
      "id": "48e997a3",
      "metadata": {
        "execution": {
          "iopub.execute_input": "2023-11-24T18:59:16.799082Z",
          "iopub.status.busy": "2023-11-24T18:59:16.797921Z",
          "iopub.status.idle": "2023-11-24T18:59:16.817168Z",
          "shell.execute_reply": "2023-11-24T18:59:16.815769Z"
        },
        "papermill": {
          "duration": 0.032977,
          "end_time": "2023-11-24T18:59:16.820406",
          "exception": false,
          "start_time": "2023-11-24T18:59:16.787429",
          "status": "completed"
        },
        "tags": [],
        "id": "48e997a3"
      },
      "outputs": [],
      "source": [
        "# Convert categorical class values to numerical values\n",
        "df['class'] = pd.factorize(df['class'])[0]"
      ]
    },
    {
      "cell_type": "code",
      "execution_count": null,
      "id": "58f3c4b3",
      "metadata": {
        "execution": {
          "iopub.execute_input": "2023-11-24T18:59:16.841315Z",
          "iopub.status.busy": "2023-11-24T18:59:16.840502Z",
          "iopub.status.idle": "2023-11-24T18:59:16.851488Z",
          "shell.execute_reply": "2023-11-24T18:59:16.850365Z"
        },
        "papermill": {
          "duration": 0.024837,
          "end_time": "2023-11-24T18:59:16.854369",
          "exception": false,
          "start_time": "2023-11-24T18:59:16.829532",
          "status": "completed"
        },
        "tags": [],
        "id": "58f3c4b3",
        "outputId": "e2b00aa7-dde0-47f7-8f1b-adb1fb0d95d4"
      },
      "outputs": [
        {
          "data": {
            "text/plain": [
              "class\n",
              "0    59445\n",
              "2    21594\n",
              "1    18961\n",
              "Name: count, dtype: int64"
            ]
          },
          "execution_count": 7,
          "metadata": {},
          "output_type": "execute_result"
        }
      ],
      "source": [
        "df['class'].value_counts()"
      ]
    },
    {
      "cell_type": "code",
      "execution_count": null,
      "id": "d847349e",
      "metadata": {
        "execution": {
          "iopub.execute_input": "2023-11-24T18:59:16.874733Z",
          "iopub.status.busy": "2023-11-24T18:59:16.874226Z",
          "iopub.status.idle": "2023-11-24T18:59:16.886691Z",
          "shell.execute_reply": "2023-11-24T18:59:16.885706Z"
        },
        "papermill": {
          "duration": 0.025425,
          "end_time": "2023-11-24T18:59:16.889004",
          "exception": false,
          "start_time": "2023-11-24T18:59:16.863579",
          "status": "completed"
        },
        "tags": [],
        "id": "d847349e",
        "outputId": "a2c9219b-8aee-463c-9d52-56149654f715"
      },
      "outputs": [
        {
          "data": {
            "text/plain": [
              "obj_ID         0\n",
              "alpha          0\n",
              "delta          0\n",
              "u              0\n",
              "g              0\n",
              "r              0\n",
              "i              0\n",
              "z              0\n",
              "run_ID         0\n",
              "rerun_ID       0\n",
              "cam_col        0\n",
              "field_ID       0\n",
              "spec_obj_ID    0\n",
              "class          0\n",
              "redshift       0\n",
              "plate          0\n",
              "MJD            0\n",
              "fiber_ID       0\n",
              "dtype: int64"
            ]
          },
          "execution_count": 8,
          "metadata": {},
          "output_type": "execute_result"
        }
      ],
      "source": [
        "# Check for null values\n",
        "df.isnull().sum()"
      ]
    },
    {
      "cell_type": "code",
      "execution_count": null,
      "id": "0a479d29",
      "metadata": {
        "execution": {
          "iopub.execute_input": "2023-11-24T18:59:16.910792Z",
          "iopub.status.busy": "2023-11-24T18:59:16.909534Z",
          "iopub.status.idle": "2023-11-24T18:59:17.030595Z",
          "shell.execute_reply": "2023-11-24T18:59:17.029331Z"
        },
        "papermill": {
          "duration": 0.135053,
          "end_time": "2023-11-24T18:59:17.033426",
          "exception": false,
          "start_time": "2023-11-24T18:59:16.898373",
          "status": "completed"
        },
        "tags": [],
        "id": "0a479d29",
        "outputId": "1b2c6e92-cf5c-475c-b01a-98788f896741"
      },
      "outputs": [
        {
          "data": {
            "text/plain": [
              "r             -0.076766\n",
              "redshift      -0.054239\n",
              "fiber_ID      -0.041586\n",
              "run_ID        -0.036014\n",
              "obj_ID        -0.036012\n",
              "field_ID      -0.034833\n",
              "u             -0.024645\n",
              "g             -0.020066\n",
              "alpha         -0.011756\n",
              "spec_obj_ID   -0.010060\n",
              "plate         -0.010060\n",
              "z             -0.001614\n",
              "MJD           -0.000405\n",
              "delta          0.014452\n",
              "i              0.015028\n",
              "cam_col        0.023138\n",
              "class          1.000000\n",
              "rerun_ID            NaN\n",
              "Name: class, dtype: float64"
            ]
          },
          "execution_count": 9,
          "metadata": {},
          "output_type": "execute_result"
        }
      ],
      "source": [
        "# Let’s analyze the correlation between the features and the label\n",
        "corr = df.corr()\n",
        "corr[\"class\"].sort_values()"
      ]
    },
    {
      "cell_type": "markdown",
      "id": "1bf68538",
      "metadata": {
        "papermill": {
          "duration": 0.009202,
          "end_time": "2023-11-24T18:59:17.052192",
          "exception": false,
          "start_time": "2023-11-24T18:59:17.042990",
          "status": "completed"
        },
        "tags": [],
        "id": "1bf68538"
      },
      "source": [
        "After analyzing the correlation of each feature with the label, we can eliminate those features that have a low correlation and are also insignificant for the objective of the problem, such as the object ID, which does not contribute anything to us."
      ]
    },
    {
      "cell_type": "code",
      "execution_count": null,
      "id": "52eae38b",
      "metadata": {
        "execution": {
          "iopub.execute_input": "2023-11-24T18:59:17.073685Z",
          "iopub.status.busy": "2023-11-24T18:59:17.073197Z",
          "iopub.status.idle": "2023-11-24T18:59:17.085997Z",
          "shell.execute_reply": "2023-11-24T18:59:17.084408Z"
        },
        "papermill": {
          "duration": 0.026358,
          "end_time": "2023-11-24T18:59:17.088496",
          "exception": false,
          "start_time": "2023-11-24T18:59:17.062138",
          "status": "completed"
        },
        "tags": [],
        "id": "52eae38b"
      },
      "outputs": [],
      "source": [
        "# Drop features\n",
        "df.drop(['obj_ID','run_ID','rerun_ID','field_ID','fiber_ID'], axis=1, inplace=True)"
      ]
    },
    {
      "cell_type": "markdown",
      "id": "753d5bd8",
      "metadata": {
        "papermill": {
          "duration": 0.009205,
          "end_time": "2023-11-24T18:59:17.107248",
          "exception": false,
          "start_time": "2023-11-24T18:59:17.098043",
          "status": "completed"
        },
        "tags": [],
        "id": "753d5bd8"
      },
      "source": [
        "## Modelling"
      ]
    },
    {
      "cell_type": "code",
      "execution_count": null,
      "id": "b24156dd",
      "metadata": {
        "execution": {
          "iopub.execute_input": "2023-11-24T18:59:17.128516Z",
          "iopub.status.busy": "2023-11-24T18:59:17.127972Z",
          "iopub.status.idle": "2023-11-24T18:59:17.209374Z",
          "shell.execute_reply": "2023-11-24T18:59:17.207860Z"
        },
        "papermill": {
          "duration": 0.095838,
          "end_time": "2023-11-24T18:59:17.212520",
          "exception": false,
          "start_time": "2023-11-24T18:59:17.116682",
          "status": "completed"
        },
        "tags": [],
        "id": "b24156dd"
      },
      "outputs": [],
      "source": [
        "X = df.drop('class', axis=1)\n",
        "y = df['class']\n",
        "\n",
        "# Split the data into testing and training sets\n",
        "X_train, X_test, y_train, y_test = train_test_split(X, y, test_size=0.3, random_state=0, stratify=y)"
      ]
    },
    {
      "cell_type": "markdown",
      "id": "f4216bca",
      "metadata": {
        "papermill": {
          "duration": 0.009237,
          "end_time": "2023-11-24T18:59:17.231710",
          "exception": false,
          "start_time": "2023-11-24T18:59:17.222473",
          "status": "completed"
        },
        "tags": [],
        "id": "f4216bca"
      },
      "source": [
        "### K-Nearest Neighbors (KNN)"
      ]
    },
    {
      "cell_type": "code",
      "execution_count": null,
      "id": "07a6e9c6",
      "metadata": {
        "execution": {
          "iopub.execute_input": "2023-11-24T18:59:17.253503Z",
          "iopub.status.busy": "2023-11-24T18:59:17.253002Z",
          "iopub.status.idle": "2023-11-24T18:59:20.044848Z",
          "shell.execute_reply": "2023-11-24T18:59:20.043863Z"
        },
        "papermill": {
          "duration": 2.807871,
          "end_time": "2023-11-24T18:59:20.049146",
          "exception": false,
          "start_time": "2023-11-24T18:59:17.241275",
          "status": "completed"
        },
        "tags": [],
        "id": "07a6e9c6",
        "outputId": "29105e1d-6aa0-43e3-a93b-ce03bc7cda3c"
      },
      "outputs": [
        {
          "data": {
            "image/png": "[encoded data removed]",
            "text/plain": [
              "<Figure size 300x300 with 2 Axes>"
            ]
          },
          "metadata": {},
          "output_type": "display_data"
        },
        {
          "name": "stdout",
          "output_type": "stream",
          "text": [
            "KNN Accuracy:  0.7126333333333333\n"
          ]
        }
      ],
      "source": [
        "knn_model = KNeighborsClassifier(n_neighbors=15)\n",
        "\n",
        "# Train\n",
        "knn_model.fit(X_train, y_train)\n",
        "\n",
        "y_pred_knn = knn_model.predict(X_test)\n",
        "\n",
        "accuracy_knn = accuracy_score(y_test, y_pred_knn)\n",
        "\n",
        "conf_matrix_knn = confusion_matrix(y_test, y_pred_knn)\n",
        "\n",
        "tags = [\"Galaxy\", \"Star\", \"QSD\"]\n",
        "\n",
        "plt.figure(figsize=(3, 3))\n",
        "sns.heatmap(conf_matrix_knn, annot=True, fmt='d', cmap=\"Blues\", xticklabels=tags, yticklabels=tags)\n",
        "plt.xlabel('Predicted')\n",
        "plt.ylabel('Real')\n",
        "plt.title('Confusion Matrix - KNN')\n",
        "plt.show()\n",
        "\n",
        "print('KNN Accuracy: ', accuracy_knn)"
      ]
    },
    {
      "cell_type": "code",
      "execution_count": null,
      "id": "7a4655d8",
      "metadata": {
        "execution": {
          "iopub.execute_input": "2023-11-24T18:59:20.072534Z",
          "iopub.status.busy": "2023-11-24T18:59:20.071542Z",
          "iopub.status.idle": "2023-11-24T19:00:18.173982Z",
          "shell.execute_reply": "2023-11-24T19:00:18.172585Z"
        },
        "papermill": {
          "duration": 58.117525,
          "end_time": "2023-11-24T19:00:18.176901",
          "exception": false,
          "start_time": "2023-11-24T18:59:20.059376",
          "status": "completed"
        },
        "scrolled": true,
        "tags": [],
        "id": "7a4655d8",
        "outputId": "22b170d0-7bc1-4398-ce7e-d035f13d624d"
      },
      "outputs": [
        {
          "name": "stdout",
          "output_type": "stream",
          "text": [
            "Value of K: 1, Accuracy: 0.6421\n",
            "Value of K: 2, Accuracy: 0.6919333333333333\n",
            "Value of K: 3, Accuracy: 0.6917\n",
            "Value of K: 4, Accuracy: 0.7005333333333333\n",
            "Value of K: 5, Accuracy: 0.7070666666666666\n",
            "Value of K: 6, Accuracy: 0.7070333333333333\n",
            "Value of K: 7, Accuracy: 0.7089666666666666\n",
            "Value of K: 8, Accuracy: 0.7101333333333333\n",
            "Value of K: 9, Accuracy: 0.7103333333333334\n",
            "Value of K: 10, Accuracy: 0.7087666666666667\n",
            "Value of K: 11, Accuracy: 0.7113666666666667\n",
            "Value of K: 12, Accuracy: 0.7112333333333334\n",
            "Value of K: 13, Accuracy: 0.7119666666666666\n",
            "Value of K: 14, Accuracy: 0.7113\n",
            "Value of K: 15, Accuracy: 0.7126333333333333\n",
            "Value of K: 16, Accuracy: 0.7118\n",
            "Value of K: 17, Accuracy: 0.7119333333333333\n",
            "Value of K: 18, Accuracy: 0.7106666666666667\n",
            "Value of K: 19, Accuracy: 0.7120333333333333\n",
            "Value of K: 20, Accuracy: 0.7115333333333334\n",
            "Value of K: 21, Accuracy: 0.7090666666666666\n",
            "Value of K: 22, Accuracy: 0.709\n",
            "Value of K: 23, Accuracy: 0.7087\n",
            "Value of K: 24, Accuracy: 0.7094666666666667\n"
          ]
        }
      ],
      "source": [
        "# Test different K values for the model\n",
        "for i in range(1,25):\n",
        "    knn_model = KNeighborsClassifier(n_neighbors=i)\n",
        "    knn_model.fit(X_train, y_train)\n",
        "\n",
        "    y_pred_knn = knn_model.predict(X_test)\n",
        "\n",
        "    accuracy_knn = accuracy_score(y_test, y_pred_knn)\n",
        "\n",
        "    print(f'Value of K: {i}, Accuracy: {accuracy_knn}')"
      ]
    },
    {
      "cell_type": "markdown",
      "id": "d8a7b391",
      "metadata": {
        "papermill": {
          "duration": 0.012216,
          "end_time": "2023-11-24T19:00:18.201799",
          "exception": false,
          "start_time": "2023-11-24T19:00:18.189583",
          "status": "completed"
        },
        "tags": [],
        "id": "d8a7b391"
      },
      "source": [
        "### XGBoost"
      ]
    },
    {
      "cell_type": "code",
      "execution_count": null,
      "id": "584e4f88",
      "metadata": {
        "execution": {
          "iopub.execute_input": "2023-11-24T19:00:18.228865Z",
          "iopub.status.busy": "2023-11-24T19:00:18.228382Z",
          "iopub.status.idle": "2023-11-24T19:00:20.623813Z",
          "shell.execute_reply": "2023-11-24T19:00:20.622633Z"
        },
        "papermill": {
          "duration": 2.413261,
          "end_time": "2023-11-24T19:00:20.627591",
          "exception": false,
          "start_time": "2023-11-24T19:00:18.214330",
          "status": "completed"
        },
        "tags": [],
        "id": "584e4f88",
        "outputId": "9bacbd04-887f-43eb-ceb0-6859e91cdf8d"
      },
      "outputs": [
        {
          "data": {
            "image/png": "[encoded data removed]",
            "text/plain": [
              "<Figure size 300x300 with 2 Axes>"
            ]
          },
          "metadata": {},
          "output_type": "display_data"
        },
        {
          "name": "stdout",
          "output_type": "stream",
          "text": [
            "XGBoost F1 Score:  0.975582231517532\n",
            "XGBoost Accuracy:  0.9757\n"
          ]
        }
      ],
      "source": [
        "xgb_model = XGBClassifier(random_state= 0)\n",
        "\n",
        "xgb_model.fit(X_train, y_train)\n",
        "\n",
        "y_pred_xgb = xgb_model.predict(X_test)\n",
        "\n",
        "# F1 score\n",
        "f1 = f1_score(y_test, y_pred_xgb, average='weighted')\n",
        "\n",
        "xgboost_accuracy_score = accuracy_score(y_test, y_pred_xgb)\n",
        "\n",
        "conf_matrix_xgb = confusion_matrix(y_test, y_pred_xgb)\n",
        "plt.figure(figsize=(3, 3))\n",
        "sns.heatmap(conf_matrix_xgb, annot=True, fmt='d', cmap=\"Blues\", xticklabels=tags, yticklabels=tags)\n",
        "plt.xlabel('Predicted')\n",
        "plt.ylabel('Real')\n",
        "plt.title('Confusion Matrix - XGBoost')\n",
        "plt.show()\n",
        "\n",
        "print('XGBoost F1 Score: ', f1)\n",
        "print('XGBoost Accuracy: ', xgboost_accuracy_score)"
      ]
    },
    {
      "cell_type": "markdown",
      "id": "80a015db",
      "metadata": {
        "papermill": {
          "duration": 0.013247,
          "end_time": "2023-11-24T19:00:20.654803",
          "exception": false,
          "start_time": "2023-11-24T19:00:20.641556",
          "status": "completed"
        },
        "tags": [],
        "id": "80a015db"
      },
      "source": [
        "### Decision Tree"
      ]
    },
    {
      "cell_type": "code",
      "execution_count": null,
      "id": "40cda867",
      "metadata": {
        "execution": {
          "iopub.execute_input": "2023-11-24T19:00:20.684503Z",
          "iopub.status.busy": "2023-11-24T19:00:20.683637Z",
          "iopub.status.idle": "2023-11-24T19:00:22.866241Z",
          "shell.execute_reply": "2023-11-24T19:00:22.865264Z"
        },
        "papermill": {
          "duration": 2.20029,
          "end_time": "2023-11-24T19:00:22.868631",
          "exception": false,
          "start_time": "2023-11-24T19:00:20.668341",
          "status": "completed"
        },
        "tags": [],
        "id": "40cda867",
        "outputId": "d26eba92-ab25-4e30-b671-64e6c21d690b"
      },
      "outputs": [
        {
          "data": {
            "image/png": "[encoded data removed]",
            "text/plain": [
              "<Figure size 300x300 with 2 Axes>"
            ]
          },
          "metadata": {},
          "output_type": "display_data"
        },
        {
          "name": "stdout",
          "output_type": "stream",
          "text": [
            "Accuracy:  0.9643\n"
          ]
        }
      ],
      "source": [
        "dt_model = DecisionTreeClassifier()\n",
        "\n",
        "# Train\n",
        "dt_model.fit(X_train, y_train)\n",
        "\n",
        "# Make predictions on the testing data\n",
        "y_pred_dt = dt_model.predict(X_test)\n",
        "\n",
        "# Evaluate the classifier\n",
        "dt_accuracy = accuracy_score(y_test, y_pred_dt)\n",
        "\n",
        "conf_matrix_dt = confusion_matrix(y_test, y_pred_dt)\n",
        "plt.figure(figsize=(3, 3))\n",
        "sns.heatmap(conf_matrix_dt, annot=True, fmt='d', cmap=\"Blues\", xticklabels=tags, yticklabels=tags)\n",
        "plt.xlabel('Predicted')\n",
        "plt.ylabel('Real')\n",
        "plt.title('Confusion Matrix - XGBoost')\n",
        "plt.show()\n",
        "\n",
        "print('Accuracy: ', dt_accuracy)"
      ]
    },
    {
      "cell_type": "markdown",
      "id": "9ebbfca2",
      "metadata": {
        "papermill": {
          "duration": 0.013519,
          "end_time": "2023-11-24T19:00:22.895996",
          "exception": false,
          "start_time": "2023-11-24T19:00:22.882477",
          "status": "completed"
        },
        "tags": [],
        "id": "9ebbfca2"
      },
      "source": [
        "## Evaluation"
      ]
    },
    {
      "cell_type": "code",
      "execution_count": null,
      "id": "c9b8e690",
      "metadata": {
        "execution": {
          "iopub.execute_input": "2023-11-24T19:00:22.926830Z",
          "iopub.status.busy": "2023-11-24T19:00:22.926329Z",
          "iopub.status.idle": "2023-11-24T19:00:22.937919Z",
          "shell.execute_reply": "2023-11-24T19:00:22.936113Z"
        },
        "papermill": {
          "duration": 0.029748,
          "end_time": "2023-11-24T19:00:22.940529",
          "exception": false,
          "start_time": "2023-11-24T19:00:22.910781",
          "status": "completed"
        },
        "tags": [],
        "id": "c9b8e690",
        "outputId": "8865baa9-e365-4be6-842f-aa2e20f8a1c9"
      },
      "outputs": [
        {
          "name": "stdout",
          "output_type": "stream",
          "text": [
            "           Model  Accuracy\n",
            "1        Xgboost  0.975700\n",
            "2  Decision Tree  0.964300\n",
            "0            KNN  0.709467\n"
          ]
        }
      ],
      "source": [
        "data = {\n",
        "    'Model': ['KNN', 'Xgboost', 'Decision Tree'],\n",
        "    'Accuracy': [accuracy_knn, xgboost_accuracy_score, dt_accuracy]\n",
        "}\n",
        "\n",
        "results_df = pd.DataFrame(data)\n",
        "print(results_df.sort_values('Accuracy', ascending=False))"
      ]
    }
  ],
  "metadata": {
    "kaggle": {
      "accelerator": "none",
      "dataSources": [
        {
          "datasetId": 1866141,
          "sourceId": 3047436,
          "sourceType": "datasetVersion"
        }
      ],
      "dockerImageVersionId": 30587,
      "isGpuEnabled": false,
      "isInternetEnabled": true,
      "language": "python",
      "sourceType": "notebook"
    },
    "kernelspec": {
      "display_name": "Python 3",
      "language": "python",
      "name": "python3"
    },
    "language_info": {
      "codemirror_mode": {
        "name": "ipython",
        "version": 3
      },
      "file_extension": ".py",
      "mimetype": "text/x-python",
      "name": "python",
      "nbconvert_exporter": "python",
      "pygments_lexer": "ipython3",
      "version": "3.10.12"
    },
    "papermill": {
      "default_parameters": {},
      "duration": 74.130655,
      "end_time": "2023-11-24T19:00:23.880531",
      "environment_variables": {},
      "exception": null,
      "input_path": "__notebook__.ipynb",
      "output_path": "__notebook__.ipynb",
      "parameters": {},
      "start_time": "2023-11-24T18:59:09.749876",
      "version": "2.4.0"
    },
    "colab": {
      "provenance": []
    }
  },
  "nbformat": 4,
  "nbformat_minor": 5
}